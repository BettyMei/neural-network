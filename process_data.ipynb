{
 "cells": [
  {
   "cell_type": "code",
   "execution_count": 2,
   "metadata": {
    "collapsed": false
   },
   "outputs": [],
   "source": [
    "import numpy as np\n",
    "import pickle\n",
    "from collections import defaultdict\n",
    "import sys,re \n",
    "import pandas as pd"
   ]
  },
  {
   "cell_type": "code",
   "execution_count": 8,
   "metadata": {
    "collapsed": false
   },
   "outputs": [
    {
     "name": "stdout",
     "output_type": "stream",
     "text": [
      "loading data....\n"
     ]
    },
    {
     "ename": "ValueError",
     "evalue": "binary mode doesn't take an encoding argument",
     "output_type": "error",
     "traceback": [
      "\u001b[0;31m---------------------------------------------------------------------------\u001b[0m",
      "\u001b[0;31mValueError\u001b[0m                                Traceback (most recent call last)",
      "\u001b[0;32m<ipython-input-8-aaa0a4cce243>\u001b[0m in \u001b[0;36m<module>\u001b[0;34m()\u001b[0m\n\u001b[1;32m     99\u001b[0m     \u001b[0mdata_folder\u001b[0m \u001b[1;33m=\u001b[0m \u001b[1;33m[\u001b[0m\u001b[1;34m\"rt-polarity.pos\"\u001b[0m\u001b[1;33m,\u001b[0m\u001b[1;34m\"rt-polarity.neg\"\u001b[0m\u001b[1;33m]\u001b[0m\u001b[1;33m\u001b[0m\u001b[0m\n\u001b[1;32m    100\u001b[0m     \u001b[0mprint\u001b[0m\u001b[1;33m(\u001b[0m\u001b[1;34m\"loading data....\"\u001b[0m\u001b[1;33m)\u001b[0m\u001b[1;33m\u001b[0m\u001b[0m\n\u001b[0;32m--> 101\u001b[0;31m     \u001b[0mrevs\u001b[0m\u001b[1;33m,\u001b[0m \u001b[0mvocab\u001b[0m \u001b[1;33m=\u001b[0m \u001b[0mbuild_data_cv\u001b[0m\u001b[1;33m(\u001b[0m\u001b[0mdata_folder\u001b[0m\u001b[1;33m,\u001b[0m \u001b[0mcv\u001b[0m\u001b[1;33m=\u001b[0m\u001b[1;36m10\u001b[0m\u001b[1;33m,\u001b[0m \u001b[0mclean_string\u001b[0m\u001b[1;33m=\u001b[0m\u001b[1;32mTrue\u001b[0m\u001b[1;33m)\u001b[0m\u001b[1;33m\u001b[0m\u001b[0m\n\u001b[0m\u001b[1;32m    102\u001b[0m     \u001b[0mmax_l\u001b[0m \u001b[1;33m=\u001b[0m \u001b[0mnp\u001b[0m\u001b[1;33m.\u001b[0m\u001b[0mmax\u001b[0m\u001b[1;33m(\u001b[0m\u001b[0mpd\u001b[0m\u001b[1;33m.\u001b[0m\u001b[0mDataFrame\u001b[0m\u001b[1;33m(\u001b[0m\u001b[0mrevs\u001b[0m\u001b[1;33m)\u001b[0m\u001b[1;33m[\u001b[0m\u001b[1;34m\"num_words\"\u001b[0m\u001b[1;33m]\u001b[0m\u001b[1;33m)\u001b[0m\u001b[1;33m\u001b[0m\u001b[0m\n\u001b[1;32m    103\u001b[0m     \u001b[0mprint\u001b[0m\u001b[1;33m(\u001b[0m\u001b[1;34m\"data laoded!\"\u001b[0m\u001b[1;33m)\u001b[0m\u001b[1;33m\u001b[0m\u001b[0m\n",
      "\u001b[0;32m<ipython-input-8-aaa0a4cce243>\u001b[0m in \u001b[0;36mbuild_data_cv\u001b[0;34m(data_folder, cv, clean_string)\u001b[0m\n\u001b[1;32m      5\u001b[0m     \u001b[0mneg_file\u001b[0m \u001b[1;33m=\u001b[0m \u001b[0mdata_folder\u001b[0m\u001b[1;33m[\u001b[0m\u001b[1;36m1\u001b[0m\u001b[1;33m]\u001b[0m\u001b[1;33m\u001b[0m\u001b[0m\n\u001b[1;32m      6\u001b[0m     \u001b[0mvocab\u001b[0m \u001b[1;33m=\u001b[0m \u001b[0mdefaultdict\u001b[0m\u001b[1;33m(\u001b[0m\u001b[0mfloat\u001b[0m\u001b[1;33m)\u001b[0m\u001b[1;33m\u001b[0m\u001b[0m\n\u001b[0;32m----> 7\u001b[0;31m     \u001b[1;32mwith\u001b[0m \u001b[0mopen\u001b[0m\u001b[1;33m(\u001b[0m\u001b[0mpos_file\u001b[0m\u001b[1;33m,\u001b[0m\u001b[1;34m\"rb\"\u001b[0m\u001b[1;33m,\u001b[0m\u001b[0mencoding\u001b[0m\u001b[1;33m=\u001b[0m\u001b[1;34m'utf-8'\u001b[0m\u001b[1;33m)\u001b[0m \u001b[1;32mas\u001b[0m \u001b[0mf\u001b[0m\u001b[1;33m:\u001b[0m\u001b[1;33m\u001b[0m\u001b[0m\n\u001b[0m\u001b[1;32m      8\u001b[0m         \u001b[1;32mfor\u001b[0m \u001b[0mline\u001b[0m \u001b[1;32min\u001b[0m \u001b[0mf\u001b[0m\u001b[1;33m:\u001b[0m\u001b[1;33m\u001b[0m\u001b[0m\n\u001b[1;32m      9\u001b[0m             \u001b[0mrev\u001b[0m \u001b[1;33m=\u001b[0m \u001b[1;33m[\u001b[0m\u001b[1;33m]\u001b[0m\u001b[1;33m\u001b[0m\u001b[0m\n",
      "\u001b[0;31mValueError\u001b[0m: binary mode doesn't take an encoding argument"
     ]
    }
   ],
   "source": [
    "#加载数据分成10份\n",
    "def build_data_cv(data_folder,cv=10,clean_string=True):\n",
    "    revs = []\n",
    "    pos_file = data_folder[0]\n",
    "    neg_file = data_folder[1]\n",
    "    vocab = defaultdict(float)\n",
    "    with open(pos_file,\"rb\") as f:\n",
    "        for line in f:\n",
    "            rev = []\n",
    "            rev.append(line.strip())\n",
    "            if clean_string:\n",
    "                orig_rev = clean_str(\" \".join('%s'%id for id in rev))\n",
    "            else:\n",
    "                orig_rev = \" \".join(rev).lower()\n",
    "            words = set(orig_rev.split())\n",
    "            for word in words:\n",
    "                vocab[word] += 1\n",
    "            datum = {\"y\":1,\"text\":orig_rev,\"num_words\":len(orig_rev.split()),\"split\":np.random.randint(0,cv)}\n",
    "            revs.append(datum)\n",
    "    with open(neg_file,\"rb\") as f:\n",
    "        for line in f:\n",
    "            rev = []\n",
    "            rev.append(line.strip())\n",
    "            if clean_string:\n",
    "                orig_rev = clean_str(\" \".join('%s'%id for id in rev))\n",
    "            else:\n",
    "                orig_rev = \" \".join(rev).lower()\n",
    "            words = set(orig_rev.split())\n",
    "            for word in words:\n",
    "                vocab[word] += 1\n",
    "            datum = {\"y\":0,\"text\":orig_rev,\"num_words\":len(orig_rev.split()),\"split\":np.random.randint(0,cv)}\n",
    "            revs.append(datum)\n",
    "    return revs,vocab\n",
    "\n",
    "#获得词向量矩阵\n",
    "def get_W(word_vecs,k=300):\n",
    "    vocab_size = len(word_vecs)\n",
    "    word_idx_map = dict()\n",
    "    W = np.zeros(shape=(vocab_size+1,k),dtype='float32')\n",
    "    W[0] = np.zeros(k,dtype='float32')\n",
    "    i = 1\n",
    "    for word in word_vecs:\n",
    "        W[i] = word_vecs[word]\n",
    "        word_idx_map[word] = i\n",
    "        i += 1\n",
    "    return W,word_idx_map\n",
    "\n",
    "#word2vec 加载300维词向量\n",
    "def load_bin_vec(fname,vocab):\n",
    "    word_vecs = {}\n",
    "    with open(fname,\"rb\",encoding='utf-8') as f:\n",
    "        header = f.readline()\n",
    "        vocab_size,layer1_size = map(int,header.split())\n",
    "        binary_len = np.dtype('float32').itemsize * layer1_size\n",
    "        for line in xrange(vocab_size):\n",
    "            word = []\n",
    "            while True:\n",
    "                ch = f.read(1)\n",
    "                if ch == ' ':\n",
    "                    word = ''.join(word)\n",
    "                    break\n",
    "                if ch != '\\n':\n",
    "                    word.append(ch)\n",
    "            if word in vocab:\n",
    "                word_vecs[word] = np.fromstring(f.read(binary_len),dtype='float32')\n",
    "            else:\n",
    "                f.read(binary_len)\n",
    "    return word_vecs\n",
    "\n",
    "#未知词的词向量\n",
    "def add_unknown_words(word_vecs,vocab,min_df=1,k=300):\n",
    "    for word in vocab:\n",
    "        if word not in word_vecs and vocab[word] >= min_df:\n",
    "            word_vecs[word] = np.random.uniform(-0.25,0.25,k)\n",
    "            \n",
    "def clean_str(string,TREC=False):\n",
    "    string = re.sub(r\"[^A-Za-z0-9(),!?\\'\\`]\", \" \", string)     \n",
    "    string = re.sub(r\"\\'s\", \" \\'s\", string) \n",
    "    string = re.sub(r\"\\'ve\", \" \\'ve\", string) \n",
    "    string = re.sub(r\"n\\'t\", \" n\\'t\", string) \n",
    "    string = re.sub(r\"\\'re\", \" \\'re\", string) \n",
    "    string = re.sub(r\"\\'d\", \" \\'d\", string) \n",
    "    string = re.sub(r\"\\'ll\", \" \\'ll\", string) \n",
    "    string = re.sub(r\",\", \" , \", string) \n",
    "    string = re.sub(r\"!\", \" ! \", string) \n",
    "    string = re.sub(r\"\\(\", \" \\( \", string) \n",
    "    string = re.sub(r\"\\)\", \" \\) \", string) \n",
    "    string = re.sub(r\"\\?\", \" \\? \", string) \n",
    "    string = re.sub(r\"\\s{2,}\", \" \", string)    \n",
    "    return string.strip() if TREC else string.strip().lower()\n",
    "\n",
    "def clean_str_sst(string):\n",
    "    string = re.sub(r\"[^A-Za-z0-9(),!?\\'\\`]\", \" \", string)   \n",
    "    string = re.sub(r\"\\s{2,}\", \" \", string)    \n",
    "    return string.strip().lower()\n",
    "\n",
    "if __name__==\"__main__\":\n",
    "    w2v_file = sys.argv[1]\n",
    "    data_folder = [\"rt-polarity.pos\",\"rt-polarity.neg\"]\n",
    "    print(\"loading data....\")\n",
    "    revs, vocab = build_data_cv(data_folder, cv=10, clean_string=True)\n",
    "    max_l = np.max(pd.DataFrame(revs)[\"num_words\"])\n",
    "    print(\"data laoded!\")\n",
    "    print(\"number of sentences:\",str(len(revs)))\n",
    "    print(\"vocab size:\",str(len(vocab)))\n",
    "    print(\"max sentence length:\",str(max_l))\n",
    "    print(\"loading word2vec vectors...\")\n",
    "    w2v = load_bin_vec(w2v_file,vocab)\n",
    "    print(\"word2vec loaded!\")\n",
    "    print(\"num words already in word2vec:\",str(len(w2v)))\n",
    "    add_unknown_words(w2v,vocab)\n",
    "    W,word_idx_map = get_W(w2v)\n",
    "    rand_vecs = {}\n",
    "    add_unknown_words(rand_vecs,vocab)\n",
    "    W2,_ = get_W(rand_vecs)\n",
    "    pickle.dump([revs,W,W2,word_idx_map,vocab],open(\"mr.p\",\"wb\"))\n",
    "    print(\"dataset created!\")"
   ]
  },
  {
   "cell_type": "code",
   "execution_count": null,
   "metadata": {
    "collapsed": true
   },
   "outputs": [],
   "source": []
  }
 ],
 "metadata": {
  "anaconda-cloud": {},
  "kernelspec": {
   "display_name": "Python [default]",
   "language": "python",
   "name": "python3"
  },
  "language_info": {
   "codemirror_mode": {
    "name": "ipython",
    "version": 3
   },
   "file_extension": ".py",
   "mimetype": "text/x-python",
   "name": "python",
   "nbconvert_exporter": "python",
   "pygments_lexer": "ipython3",
   "version": "3.5.2"
  }
 },
 "nbformat": 4,
 "nbformat_minor": 2
}
