{
 "cells": [
  {
   "cell_type": "code",
   "execution_count": 1,
   "metadata": {
    "collapsed": true
   },
   "outputs": [],
   "source": [
    "import tensorflow as tf\n",
    "import pandas as pd"
   ]
  },
  {
   "cell_type": "code",
   "execution_count": 2,
   "metadata": {
    "collapsed": false
   },
   "outputs": [
    {
     "name": "stdout",
     "output_type": "stream",
     "text": [
      "(1311, 116)\n",
      "(11800, 116)\n",
      "(2511, 116)\n",
      "(22600, 116)\n",
      "(3711, 116)\n",
      "(33400, 116)\n",
      "(4911, 116)\n",
      "(44200, 116)\n",
      "(6111, 116)\n",
      "(55000, 116)\n",
      "(7311, 116)\n",
      "(65800, 116)\n",
      "(8511, 116)\n",
      "(76600, 116)\n",
      "(9711, 116)\n",
      "(87400, 116)\n",
      "(10911, 116)\n",
      "(98200, 116)\n",
      "(12031, 116)\n",
      "(108280, 116)\n",
      "(13231, 116)\n",
      "(119080, 116)\n"
     ]
    }
   ],
   "source": [
    "#数据集名称\n",
    "bengin_traffic = \"bengin_traffic.csv\" #第0类\n",
    "gafgyt_combo = \"gafgyt_attacks/combo.csv\" #第1类\n",
    "gafgyt_junk = \"gafgyt_attacks/junk.csv\" #第2类\n",
    "gafgyt_scan = \"gafgyt_attacks/scan.csv\" #第3类\n",
    "gafgyt_tcp = \"gafgyt_attacks/tcp.csv\" #第4类\n",
    "gafgyt_udp = \"gafgyt_attacks/udp.csv\" #第5类\n",
    "mirai_ack = \"mirai_attacks/ack.csv\" #第6类\n",
    "mirai_scan = \"mirai_attacks/scan.csv\" #第7类\n",
    "mirai_syn = \"mirai_attacks/syn.csv\" #第8类\n",
    "mirai_udp = \"mirai_attacks/udp.csv\" #第9类\n",
    "mirai_udpplain = \"mirai_attacks/udpplain.csv\" #第10类\n",
    "\n",
    "filename_list = [bengin_traffic,gafgyt_combo,gafgyt_junk,gafgyt_scan,gafgyt_tcp,gafgyt_udp,\n",
    "                 mirai_ack,mirai_scan,mirai_syn,mirai_udp,mirai_udpplain]\n",
    "num = len(filename_list)\n",
    "test_empty = pd.DataFrame()  #新建一个DataFrame来存放所有的测试数据\n",
    "train_empty = pd.DataFrame() #新建一个DataFrame来存放所有的训练数据\n",
    "for j in range(num):\n",
    "    df = pd.read_csv(filename_list[j] ,header=0)\n",
    "    df['label'] = j\n",
    "    for i in range(df.shape[0]):\n",
    "        if (i+1) % 10 == 0:\n",
    "            test_df = df.iloc[i,:]\n",
    "            test_empty = test_empty.append(test_df)\n",
    "        else:\n",
    "            train_df = df.iloc[i,:]\n",
    "            train_empty = train_empty.append(train_df)\n",
    "    print(test_empty.shape)\n",
    "    print(train_empty.shape)\n",
    "#数据预处理\n",
    "#训练数据线性归一化处理[0,1]\n",
    "train_rows = train_empty.shape[0] #行\n",
    "train_cols = train_empty.shape[1] - 1 #列\n",
    "for i in range(train_cols):\n",
    "    for j in range(train_rows):\n",
    "        train_empty.iloc[j,i] = (train_empty.iloc[j,i] - train_empty.iloc[:,i].min()) / (train_empty.iloc[:,i].max() - train_empty.iloc[:,i].min())\n",
    "#测试数据线性归一化处理[0,1]\n",
    "test_rows = test_empty.shape[0] #行\n",
    "test_cols = test_empty.shape[1] - 1 #列\n",
    "for i in range(test_cols):\n",
    "    for j in range(test_rows):\n",
    "        test_empty.iloc[j,i] = (test_empty.iloc[j,i] - test_empty.iloc[:,i].min()) / (test_empty.iloc[:,i].max() - test_empty.iloc[:,i].min())\n",
    "test_empty.to_csv('test.csv')\n",
    "train_empty.to_csv('train.csv')"
   ]
  },
  {
   "cell_type": "code",
   "execution_count": null,
   "metadata": {
    "collapsed": true
   },
   "outputs": [],
   "source": []
  }
 ],
 "metadata": {
  "anaconda-cloud": {},
  "kernelspec": {
   "display_name": "Python [default]",
   "language": "python",
   "name": "python3"
  },
  "language_info": {
   "codemirror_mode": {
    "name": "ipython",
    "version": 3
   },
   "file_extension": ".py",
   "mimetype": "text/x-python",
   "name": "python",
   "nbconvert_exporter": "python",
   "pygments_lexer": "ipython3",
   "version": "3.5.2"
  }
 },
 "nbformat": 4,
 "nbformat_minor": 2
}
